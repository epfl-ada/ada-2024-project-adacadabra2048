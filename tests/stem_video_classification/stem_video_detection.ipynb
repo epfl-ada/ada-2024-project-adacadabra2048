{
 "cells": [
  {
   "cell_type": "code",
   "execution_count": null,
   "id": "e2125ed1-5d26-435b-9922-639dd0a1ce34",
   "metadata": {},
   "outputs": [],
   "source": [
    "import gc\n",
    "import json\n",
    "import polars as pl\n",
    "import numpy as np\n",
    "from tqdm import tqdm\n",
    "from sentence_transformers import SentenceTransformer\n",
    "from sklearn.metrics.pairwise import cosine_similarity"
   ]
  },
  {
   "cell_type": "code",
   "execution_count": null,
   "id": "292b1c05-a09f-41f2-afa1-83d591b14c70",
   "metadata": {
    "scrolled": true
   },
   "outputs": [],
   "source": [
    "video_country = pl.read_csv('.././data/video_with_channelcountry.csv').filter(pl.col(\"country\").is_not_null())"
   ]
  },
  {
   "cell_type": "code",
   "execution_count": null,
   "id": "0dcdc9e4-7f55-4c39-8575-76386218978a",
   "metadata": {},
   "outputs": [],
   "source": [
    "with open('.././data/stem_tags.json', 'r') as file:\n",
    "    keywords = json.load(file)\n",
    "tags = list(keywords['tags'])"
   ]
  },
  {
   "cell_type": "code",
   "execution_count": null,
   "id": "f19c988e-7fb1-4c2d-a841-3f2878a8b1b7",
   "metadata": {},
   "outputs": [],
   "source": [
    "def classify_stem_videos(\n",
    "    df: pl.DataFrame, \n",
    "    stem_tags: list[str], \n",
    "    tag_column: str = \"tags\", \n",
    "    threshold: float = 0.5,\n",
    "    batch_size: int = 10000\n",
    ") -> pl.DataFrame:\n",
    "    \n",
    "    # Convert stem_tags to a set for O(1) lookup and store lowercase versions\n",
    "    stem_tags_set: Set[str] = {tag.lower().strip() for tag in stem_tags if tag is not None}\n",
    "    \n",
    "    def process_batch(batch_df: pl.DataFrame) -> pl.Series:\n",
    "        def calculate_stem_percentage(tags_str: str) -> bool:\n",
    "            if not isinstance(tags_str, str):\n",
    "                return False\n",
    "            \n",
    "            try:\n",
    "                video_tags = [\n",
    "                    tag.strip().lower() \n",
    "                    for tag in tags_str.split(\",\") \n",
    "                    if tag and tag.strip()\n",
    "                ]\n",
    "                \n",
    "                if not video_tags:\n",
    "                    return False\n",
    "\n",
    "                stem_count = sum(1 for tag in video_tags if tag in stem_tags_set)\n",
    "                return (stem_count / len(video_tags)) >= threshold\n",
    "                \n",
    "            except (AttributeError, TypeError, ValueError) as e:\n",
    "                print(f\"Error processing tags: {tags_str}, Error: {e}\")\n",
    "                return False\n",
    "    \n",
    "        return pl.Series([calculate_stem_percentage(tags) for tags in batch_df[tag_column]])\n",
    "    \n",
    "    total_rows = df.height\n",
    "    num_batches = (total_rows + batch_size - 1) // batch_size\n",
    "\n",
    "    results = []\n",
    "    \n",
    "    with tqdm(total=total_rows, desc=\"Classifying videos\") as pbar:\n",
    "        for i in range(0, total_rows, batch_size):\n",
    "            try:\n",
    "                batch = df.slice(i, min(batch_size, total_rows - i))\n",
    "                batch_results = process_batch(batch)\n",
    "                results.append(batch_results)\n",
    "                pbar.update(batch.height)\n",
    "                gc.collect()\n",
    "                \n",
    "            except Exception as e:\n",
    "                print(f\"Error processing batch starting at index {i}: {e}\")\n",
    "                continue\n",
    "\n",
    "    try:\n",
    "        is_stem_column = pl.concat(results, rechunk=True)\n",
    "        return df.with_columns([\n",
    "            is_stem_column.alias(\"is_stem\")\n",
    "        ])\n",
    "    except Exception as e:\n",
    "        print(f\"Error combining results: {e}\")\n",
    "        return df.with_columns([\n",
    "            pl.lit(False).alias(\"is_stem\")\n",
    "        ])"
   ]
  },
  {
   "cell_type": "code",
   "execution_count": null,
   "id": "05831d12-dd5d-4cca-a2c1-00467703d770",
   "metadata": {
    "scrolled": true
   },
   "outputs": [],
   "source": [
    "result_df = classify_stem_videos(video_country, tags)"
   ]
  },
  {
   "cell_type": "code",
   "execution_count": null,
   "id": "698840a8-cdd7-47ee-9e97-29254a9d29f8",
   "metadata": {},
   "outputs": [],
   "source": [
    "stem_videos = result_df.filter(result_df['is_stem'] == True)"
   ]
  },
  {
   "cell_type": "code",
   "execution_count": null,
   "id": "940a0f92-9f94-4dc8-9ff3-ff817f022732",
   "metadata": {},
   "outputs": [],
   "source": [
    "stem_videos.write_csv('stem_videos.csv')"
   ]
  }
 ],
 "metadata": {
  "kernelspec": {
   "display_name": "Python 3 (ipykernel)",
   "language": "python",
   "name": "python3"
  },
  "language_info": {
   "codemirror_mode": {
    "name": "ipython",
    "version": 3
   },
   "file_extension": ".py",
   "mimetype": "text/x-python",
   "name": "python",
   "nbconvert_exporter": "python",
   "pygments_lexer": "ipython3",
   "version": "3.12.4"
  }
 },
 "nbformat": 4,
 "nbformat_minor": 5
}
