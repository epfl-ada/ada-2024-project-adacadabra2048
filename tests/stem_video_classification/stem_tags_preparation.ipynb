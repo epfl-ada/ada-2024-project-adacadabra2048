{
 "cells": [
  {
   "cell_type": "code",
   "execution_count": null,
   "id": "e2125ed1-5d26-435b-9922-639dd0a1ce34",
   "metadata": {},
   "outputs": [],
   "source": [
    "import polars as pl\n",
    "import numpy as np\n",
    "import json\n",
    "import numpy as np\n",
    "from sentence_transformers import SentenceTransformer\n",
    "from sklearn.metrics.pairwise import cosine_similarity"
   ]
  },
  {
   "cell_type": "code",
   "execution_count": null,
   "id": "292b1c05-a09f-41f2-afa1-83d591b14c70",
   "metadata": {
    "scrolled": true
   },
   "outputs": [],
   "source": [
    "video_country = pl.read_csv('edu-data/video_with_channelcountry.csv').filter(pl.col(\"country\").is_not_null())"
   ]
  },
  {
   "cell_type": "code",
   "execution_count": null,
   "id": "0dcdc9e4-7f55-4c39-8575-76386218978a",
   "metadata": {},
   "outputs": [],
   "source": [
    "with open('.././data/filtered_stem_lectures.json', 'r') as file:\n",
    "    keywords = json.load(file)\n",
    "anchors = list(keywords.keys())"
   ]
  },
  {
   "cell_type": "code",
   "execution_count": null,
   "id": "2bbb35f3-3ca6-4cd8-b850-6369eb37585b",
   "metadata": {},
   "outputs": [],
   "source": [
    "def encode_tags(tags, model_name='all-MiniLM-L6-v2'):\n",
    "    model = SentenceTransformer(model_name)\n",
    "    return model.encode(tags, device='cpu', batch_size=128, show_progress_bar=True)\n",
    "\n",
    "def get_stem_anchors(anchors: list):\n",
    "    return anchors, encode_tags(anchors)\n",
    "    \n",
    "def detect_stem_tags(tag_vectors, anchor_vectors, threshold=0.5):   \n",
    "    similarities = cosine_similarity(tag_vectors, anchor_vectors)\n",
    "    max_similarities = np.max(similarities, axis=1)\n",
    "    return max_similarities\n",
    "\n",
    "def get_unique_tags(df: pl.DataFrame, tag_column: str = 'tags') -> list:\n",
    "    return (df.lazy()\n",
    "        .select(pl.col(tag_column))\n",
    "        .filter(pl.col(tag_column).is_not_null())\n",
    "        .select(\n",
    "            pl.col(tag_column).str.split(',').alias('split_tags')\n",
    "        )\n",
    "        .explode('split_tags')\n",
    "        .select(\n",
    "            pl.col('split_tags').str.strip_chars()\n",
    "        )\n",
    "        .unique().collect().to_series().to_list()\n",
    "    )\n",
    "\n",
    "def process_tags_in_batches(tags, anchors, batch_size=1000, checkpoint=True):\n",
    "    model = SentenceTransformer('all-MiniLM-L6-v2')\n",
    "    anchor_texts, anchor_vectors = get_stem_anchors(anchors)\n",
    "\n",
    "    scores = []\n",
    "    \n",
    "    for i in range(0, len(tags), batch_size):\n",
    "        batch = tags[i:i + batch_size]\n",
    "        batch_vectors = model.encode(batch, device='cpu', show_progress_bar=True)\n",
    "        batch_scores = detect_stem_tags(batch_vectors, anchor_vectors)\n",
    "        \n",
    "        scores.extend(batch_scores)\n",
    "        cos_sim = np.array(scores)\n",
    "        \n",
    "        if checkpoint==True:\n",
    "            np.save('tags_cos_sim.npy', cos_sim)\n",
    "        print(f\"Processed {i + len(batch)} / {len(tags)} tags\")\n",
    "    \n",
    "    return cos_sim"
   ]
  },
  {
   "cell_type": "code",
   "execution_count": null,
   "id": "2ea696cf-0ac1-4926-b8da-9856fd1908c5",
   "metadata": {},
   "outputs": [],
   "source": [
    "unique_tags = get_unique_tags(video_country)"
   ]
  },
  {
   "cell_type": "code",
   "execution_count": null,
   "id": "76120f72-bd8b-4f67-812b-516d557e967d",
   "metadata": {
    "scrolled": true
   },
   "outputs": [],
   "source": [
    "scores = process_tags_in_batches(unique_tags, anchors, 10000)"
   ]
  },
  {
   "cell_type": "code",
   "execution_count": null,
   "id": "dafd1c68-0145-4276-881c-0aafd7483934",
   "metadata": {},
   "outputs": [],
   "source": [
    "res = scores > 0.5\n",
    "stem_tags = np.array(unique_tags)[res]"
   ]
  },
  {
   "cell_type": "code",
   "execution_count": null,
   "id": "06ca4927-4f90-4d8b-9bae-5310eb978e23",
   "metadata": {
    "scrolled": true
   },
   "outputs": [],
   "source": [
    "tags_dict = {'tags': list(stem_tags)}\n",
    "with open(\".././data/stem_tags.json\", 'w') as file:\n",
    "    json.dump(tags_dict, file)"
   ]
  }
 ],
 "metadata": {
  "kernelspec": {
   "display_name": "Python 3 (ipykernel)",
   "language": "python",
   "name": "python3"
  },
  "language_info": {
   "codemirror_mode": {
    "name": "ipython",
    "version": 3
   },
   "file_extension": ".py",
   "mimetype": "text/x-python",
   "name": "python",
   "nbconvert_exporter": "python",
   "pygments_lexer": "ipython3",
   "version": "3.12.4"
  }
 },
 "nbformat": 4,
 "nbformat_minor": 5
}
