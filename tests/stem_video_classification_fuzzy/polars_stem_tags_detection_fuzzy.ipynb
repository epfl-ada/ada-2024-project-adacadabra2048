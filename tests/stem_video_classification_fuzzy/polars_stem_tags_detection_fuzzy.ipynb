{
 "cells": [
  {
   "cell_type": "code",
   "execution_count": 1,
   "metadata": {
    "colab": {
     "base_uri": "https://localhost:8080/"
    },
    "id": "b4Jw3rpMoARt",
    "outputId": "ec393b33-719c-47b5-9b66-87872424f735"
   },
   "outputs": [],
   "source": [
    "import polars as pl\n",
    "import numpy as np\n",
    "import json\n",
    "import re\n",
    "import numpy as np\n",
    "from rapidfuzz import fuzz, process\n",
    "from tqdm import tqdm"
   ]
  },
  {
   "cell_type": "code",
   "execution_count": 2,
   "metadata": {
    "colab": {
     "base_uri": "https://localhost:8080/"
    },
    "id": "BmhJiyJuojUc",
    "outputId": "867eae71-7f26-4e68-94f9-75ec02011beb"
   },
   "outputs": [
    {
     "data": {
      "text/plain": [
       "2008"
      ]
     },
     "execution_count": 2,
     "metadata": {},
     "output_type": "execute_result"
    }
   ],
   "source": [
    "def extract_keywords(filepath):\n",
    "    \"\"\"\n",
    "    Extracts unique keywords from a file with the format \"x_keywords: [...]\".\n",
    "    \"\"\"\n",
    "    keywords = {}\n",
    "    with open(filepath, 'r') as file:\n",
    "        for line in file:\n",
    "            match = re.match(r\"(\\w+_keywords)\\s*=\\s*\\[(.*?)\\]\", line, re.DOTALL)\n",
    "            if match:\n",
    "                category = match.group(1)\n",
    "                keyword_str = match.group(2)\n",
    "                # Handle both single and double quotes, special characters,\n",
    "                # remove extra whitespace, and filter out empty strings\n",
    "                # The change is in the regex:\n",
    "                keyword_list = [''.join(k).strip().strip(\"'\").strip('\"').strip(\"’\") for k in re.findall(r\"'([^']*)'|[\\\"]([^\\\"]*)[\\\"]|’([^’]*)’\", keyword_str)]\n",
    "                keyword_list = [keyword for keyword in keyword_list if keyword]\n",
    "                keywords[category] = keyword_list\n",
    "\n",
    "    # Flatten the dictionary and remove duplicates\n",
    "    all_keywords = []\n",
    "    for category, wordlist in keywords.items():\n",
    "        all_keywords.extend(wordlist)\n",
    "\n",
    "    return list(set(all_keywords))\n",
    "\n",
    "root_folder = \"/Users/antonina/Desktop/ADA/ada-2024-project-adacadabra2048\" # change it for your root of the repo\n",
    "stem_keywords = [keyword.lower() for keyword in \n",
    "                 extract_keywords(root_folder + '/src/scripts/keyword_generator/final_keywords.txt')]\n",
    "len(stem_keywords)"
   ]
  },
  {
   "cell_type": "code",
   "execution_count": 3,
   "metadata": {
    "colab": {
     "base_uri": "https://localhost:8080/"
    },
    "id": "fza0lQUipBMG",
    "outputId": "b9c2f866-6828-4ef8-f3a8-dea9eb30ce99"
   },
   "outputs": [],
   "source": [
    "# Extract video data with country field (removing those without any country information)\n",
    "df_path = '/Users/antonina/Desktop/ADA/edu-data/video_with_channelcountry.csv' # change it for your path\n",
    "video_country = pl.read_csv(df_path).filter(pl.col(\"country\").is_not_null())"
   ]
  },
  {
   "cell_type": "code",
   "execution_count": 4,
   "metadata": {},
   "outputs": [
    {
     "data": {
      "text/plain": [
       "polars.dataframe.frame.DataFrame"
      ]
     },
     "execution_count": 4,
     "metadata": {},
     "output_type": "execute_result"
    }
   ],
   "source": [
    "def get_unique_tags(df: pl.DataFrame, tag_column: str = 'tags') -> list:\n",
    "    return (df.lazy()\n",
    "        .select(pl.col(tag_column))\n",
    "        .filter(pl.col(tag_column).is_not_null())\n",
    "        .select(\n",
    "            pl.col(tag_column).str.split(',').alias('split_tags')\n",
    "        )\n",
    "        .explode('split_tags')\n",
    "        .select(\n",
    "            pl.col('split_tags').str.strip_chars()\n",
    "        )\n",
    "        .unique().collect()#.to_series()#.to_list()\n",
    "    )\n",
    "\n",
    "unique_tags = get_unique_tags(video_country)\n",
    "type(unique_tags)"
   ]
  },
  {
   "cell_type": "code",
   "execution_count": 8,
   "metadata": {},
   "outputs": [
    {
     "name": "stdout",
     "output_type": "stream",
     "text": [
      "False\n"
     ]
    }
   ],
   "source": [
    "match = process.extractOne('pho', stem_keywords, scorer=fuzz.ratio, score_cutoff=90)\n",
    "none = (match == None)\n",
    "if not none:\n",
    "    print(match[1] > 0)\n",
    "else:\n",
    "    print(False)"
   ]
  },
  {
   "cell_type": "code",
   "execution_count": 9,
   "metadata": {},
   "outputs": [],
   "source": [
    "def is_stem_tag(tag):\n",
    "    \"\"\"Checks if a tag is STEM\"\"\"\n",
    "    tag = tag.lower().strip()\n",
    "    # Using rapidfuzz's process.extractOne for faster fuzzy matching\n",
    "    match = process.extractOne(tag, stem_keywords, scorer=fuzz.ratio, score_cutoff=90)\n",
    "    none = (match == None)\n",
    "    if not none:\n",
    "        return match[1] > 0\n",
    "    else:\n",
    "        return False"
   ]
  },
  {
   "cell_type": "code",
   "execution_count": 10,
   "metadata": {
    "colab": {
     "base_uri": "https://localhost:8080/"
    },
    "id": "1tvYNx2Mo5O_",
    "outputId": "859dea98-29db-4550-a433-776be85939f6"
   },
   "outputs": [
    {
     "name": "stderr",
     "output_type": "stream",
     "text": [
      "/var/folders/2y/m5zny5yd6990mwr5565hy46r0000gn/T/ipykernel_38878/674091713.py:1: MapWithoutReturnDtypeWarning: Calling `map_elements` without specifying `return_dtype` can lead to unpredictable results. Specify `return_dtype` to silence this warning.\n",
      "  unique_tags = unique_tags.with_columns(\n"
     ]
    }
   ],
   "source": [
    "unique_tags = unique_tags.with_columns(\n",
    "    pl.col(\"split_tags\").map_elements(lambda x: is_stem_tag(x)).alias(\"is_stem\")\n",
    ")"
   ]
  },
  {
   "cell_type": "code",
   "execution_count": 12,
   "metadata": {},
   "outputs": [
    {
     "data": {
      "text/plain": [
       "4989"
      ]
     },
     "execution_count": 12,
     "metadata": {},
     "output_type": "execute_result"
    }
   ],
   "source": [
    "len(unique_tags.filter(pl.col(\"is_stem\") == True))"
   ]
  },
  {
   "cell_type": "code",
   "execution_count": 14,
   "metadata": {},
   "outputs": [
    {
     "data": {
      "text/plain": [
       "4124969"
      ]
     },
     "execution_count": 14,
     "metadata": {},
     "output_type": "execute_result"
    }
   ],
   "source": [
    "len(unique_tags.filter(pl.col(\"is_stem\") == False))"
   ]
  },
  {
   "cell_type": "code",
   "execution_count": 17,
   "metadata": {},
   "outputs": [],
   "source": [
    "with open(\"stem_tags_fw90.json\", 'w') as file:\n",
    "    json.dump(unique_tags.filter(pl.col(\"is_stem\") == True)['split_tags'].to_list(), file)"
   ]
  }
 ],
 "metadata": {
  "colab": {
   "provenance": []
  },
  "kernelspec": {
   "display_name": "Python 3 (ipykernel)",
   "language": "python",
   "name": "python3"
  },
  "language_info": {
   "codemirror_mode": {
    "name": "ipython",
    "version": 3
   },
   "file_extension": ".py",
   "mimetype": "text/x-python",
   "name": "python",
   "nbconvert_exporter": "python",
   "pygments_lexer": "ipython3",
   "version": "3.12.4"
  }
 },
 "nbformat": 4,
 "nbformat_minor": 4
}
