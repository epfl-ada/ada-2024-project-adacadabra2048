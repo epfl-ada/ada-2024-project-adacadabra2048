{
  "nbformat": 4,
  "nbformat_minor": 0,
  "metadata": {
    "colab": {
      "provenance": []
    },
    "kernelspec": {
      "name": "python3",
      "display_name": "Python 3"
    },
    "language_info": {
      "name": "python"
    }
  },
  "cells": [
    {
      "cell_type": "code",
      "execution_count": 1,
      "metadata": {
        "colab": {
          "base_uri": "https://localhost:8080/"
        },
        "id": "b4Jw3rpMoARt",
        "outputId": "ec393b33-719c-47b5-9b66-87872424f735"
      },
      "outputs": [
        {
          "output_type": "stream",
          "name": "stdout",
          "text": [
            "Mounted at /content/drive\n"
          ]
        }
      ],
      "source": [
        "from google.colab import drive\n",
        "drive.mount('/content/drive')"
      ]
    },
    {
      "cell_type": "code",
      "source": [
        "import os\n",
        "os.chdir(\"/content/drive/MyDrive/edu-data\")\n",
        "!ls"
      ],
      "metadata": {
        "colab": {
          "base_uri": "https://localhost:8080/"
        },
        "id": "JYPyhDD1oEVy",
        "outputId": "7c2a2ed1-119f-4f41-ca9b-cbe7a7b079a6"
      },
      "execution_count": 2,
      "outputs": [
        {
          "output_type": "stream",
          "name": "stdout",
          "text": [
            "final_keywords.txt  stem_video_titles_tags_50.xlsx     video_with_country_and_stem.csv\n",
            "keyword_counts.txt  video_with_channelcountry.csv\n",
            "__MACOSX\t    video_with_channelcountry.csv.zip\n"
          ]
        }
      ]
    },
    {
      "cell_type": "code",
      "source": [
        "# Install required packages\n",
        "! pip3 install rapidfuzz"
      ],
      "metadata": {
        "colab": {
          "base_uri": "https://localhost:8080/"
        },
        "id": "lBYycFfJoSqu",
        "outputId": "80c723b2-7836-453e-b1c3-2d7755618e2a"
      },
      "execution_count": 3,
      "outputs": [
        {
          "output_type": "stream",
          "name": "stdout",
          "text": [
            "Collecting rapidfuzz\n",
            "  Downloading rapidfuzz-3.10.1-cp310-cp310-manylinux_2_17_x86_64.manylinux2014_x86_64.whl.metadata (11 kB)\n",
            "Downloading rapidfuzz-3.10.1-cp310-cp310-manylinux_2_17_x86_64.manylinux2014_x86_64.whl (3.1 MB)\n",
            "\u001b[2K   \u001b[90m━━━━━━━━━━━━━━━━━━━━━━━━━━━━━━━━━━━━━━━━\u001b[0m \u001b[32m3.1/3.1 MB\u001b[0m \u001b[31m32.2 MB/s\u001b[0m eta \u001b[36m0:00:00\u001b[0m\n",
            "\u001b[?25hInstalling collected packages: rapidfuzz\n",
            "Successfully installed rapidfuzz-3.10.1\n"
          ]
        }
      ]
    },
    {
      "cell_type": "code",
      "source": [
        "import pandas as pd\n",
        "import csv\n",
        "import re\n",
        "import matplotlib.pyplot as plt\n",
        "from rapidfuzz import fuzz, process\n",
        "from tqdm import tqdm"
      ],
      "metadata": {
        "id": "cykabjFvoFDY"
      },
      "execution_count": 4,
      "outputs": []
    },
    {
      "cell_type": "markdown",
      "source": [
        "This time we set a higher fuzzy matching threshold (90%) and no tag match ratio (i.e only need 1 tag matched to keyword list)."
      ],
      "metadata": {
        "id": "EWB-Mx0toWrQ"
      }
    },
    {
      "cell_type": "code",
      "source": [
        "def extract_keywords(filepath):\n",
        "    \"\"\"\n",
        "    Extracts unique keywords from a file with the format \"x_keywords: [...]\".\n",
        "    \"\"\"\n",
        "    keywords = {}\n",
        "    with open(filepath, 'r') as file:\n",
        "        for line in file:\n",
        "            match = re.match(r\"(\\w+_keywords)\\s*=\\s*\\[(.*?)\\]\", line, re.DOTALL)\n",
        "            if match:\n",
        "                category = match.group(1)\n",
        "                keyword_str = match.group(2)\n",
        "                # Handle both single and double quotes, special characters,\n",
        "                # remove extra whitespace, and filter out empty strings\n",
        "                # The change is in the regex:\n",
        "                keyword_list = [''.join(k).strip().strip(\"'\").strip('\"').strip(\"’\") for k in re.findall(r\"'([^']*)'|[\\\"]([^\\\"]*)[\\\"]|’([^’]*)’\", keyword_str)]\n",
        "                keyword_list = [keyword for keyword in keyword_list if keyword]\n",
        "                keywords[category] = keyword_list\n",
        "\n",
        "    # Flatten the dictionary and remove duplicates\n",
        "    all_keywords = []\n",
        "    for category, wordlist in keywords.items():\n",
        "        all_keywords.extend(wordlist)\n",
        "\n",
        "    return list(set(all_keywords))\n",
        "\n",
        "stem_keywords = extract_keywords('/content/drive/MyDrive/edu-data/final_keywords.txt')\n",
        "len(stem_keywords)"
      ],
      "metadata": {
        "colab": {
          "base_uri": "https://localhost:8080/"
        },
        "id": "BmhJiyJuojUc",
        "outputId": "867eae71-7f26-4e68-94f9-75ec02011beb"
      },
      "execution_count": 5,
      "outputs": [
        {
          "output_type": "execute_result",
          "data": {
            "text/plain": [
              "2008"
            ]
          },
          "metadata": {},
          "execution_count": 5
        }
      ]
    },
    {
      "cell_type": "code",
      "source": [
        "# Extract video data with country field (removing those without any country information)\n",
        "df_video_with_country = pd.read_csv('/content/drive/MyDrive/edu-data/video_with_channelcountry.csv')\n",
        "df_video_with_country = df_video_with_country[df_video_with_country['country'].notnull()]"
      ],
      "metadata": {
        "colab": {
          "base_uri": "https://localhost:8080/"
        },
        "id": "fza0lQUipBMG",
        "outputId": "b9c2f866-6828-4ef8-f3a8-dea9eb30ce99"
      },
      "execution_count": 6,
      "outputs": [
        {
          "output_type": "stream",
          "name": "stderr",
          "text": [
            "<ipython-input-6-896327dcbe5a>:2: DtypeWarning: Columns (7,13) have mixed types. Specify dtype option on import or set low_memory=False.\n",
            "  df_video_with_country = pd.read_csv('/content/drive/MyDrive/edu-data/video_with_channelcountry.csv')\n"
          ]
        }
      ]
    },
    {
      "cell_type": "code",
      "source": [
        "# Pre-process keywords (convert to lowercase)\n",
        "stem_keywords_lower = [keyword.lower() for keyword in stem_keywords]\n",
        "\n",
        "def is_stem_video(tags):\n",
        "    \"\"\"Checks if a video is STEM based on its tags.\"\"\"\n",
        "    if pd.isna(tags):\n",
        "        return False\n",
        "\n",
        "    video_tags = tags.lower().split(',')  # Convert tags to lowercase for efficient matching\n",
        "    matched_tags = 0\n",
        "    for video_tag in video_tags:\n",
        "        # Using rapidfuzz's process.extractOne for faster fuzzy matching\n",
        "        match = process.extractOne(video_tag.strip(), stem_keywords_lower, scorer=fuzz.ratio, score_cutoff=90)\n",
        "        if match:\n",
        "            matched_tags += 1\n",
        "\n",
        "    return matched_tags > 0 # As long as at least 1 tag matched\n",
        "\n",
        "# Initialize keyword counts with lowercase keys\n",
        "keyword_counts = {keyword.lower(): 0 for keyword in stem_keywords}\n",
        "\n",
        "# Apply the is_stem_video function using Pandas apply for vectorization\n",
        "# with tqdm progress bar\n",
        "tqdm.pandas(desc=\"Processing is_stem\")\n",
        "df_video_with_country['is_stem'] = df_video_with_country['tags'].progress_apply(is_stem_video)\n",
        "\n",
        "# Update keyword counts (this part is still iterative, but it's unavoidable)\n",
        "for index, row in tqdm(df_video_with_country[df_video_with_country['is_stem']].iterrows(), total=len(df_video_with_country[df_video_with_country['is_stem']])):\n",
        "    video_tags = row['tags'].lower().split(',')\n",
        "    for video_tag in video_tags:\n",
        "        match = process.extractOne(video_tag.strip(), stem_keywords_lower, scorer=fuzz.ratio, score_cutoff=70)\n",
        "        if match:\n",
        "            keyword_counts[match[0]] += 1\n",
        "\n",
        "# Print the number of videos with is_stem = True\n",
        "stem_video_count = df_video_with_country['is_stem'].sum()\n",
        "print(f\"Number of STEM videos: {stem_video_count}\")"
      ],
      "metadata": {
        "colab": {
          "base_uri": "https://localhost:8080/"
        },
        "id": "1tvYNx2Mo5O_",
        "outputId": "859dea98-29db-4550-a433-776be85939f6"
      },
      "execution_count": 9,
      "outputs": [
        {
          "output_type": "stream",
          "name": "stderr",
          "text": [
            "Processing is_stem: 100%|██████████| 1911894/1911894 [1:37:08<00:00, 328.01it/s]\n",
            "100%|██████████| 264843/264843 [24:28<00:00, 180.39it/s]"
          ]
        },
        {
          "output_type": "stream",
          "name": "stdout",
          "text": [
            "Number of STEM videos: 264843\n"
          ]
        },
        {
          "output_type": "stream",
          "name": "stderr",
          "text": [
            "\n"
          ]
        }
      ]
    },
    {
      "cell_type": "code",
      "source": [
        "# Sample 100 STEM videos\n",
        "stem_videos = df_video_with_country[df_video_with_country['is_stem'] == True].sample(n=100)\n",
        "\n",
        "# Print titles and tags\n",
        "for index, row in stem_videos.iterrows():\n",
        "  print(f\"Title: {row['title']}\")\n",
        "  print(f\"Tags: {row['tags']}\")\n",
        "  print(\"-\" * 20)"
      ],
      "metadata": {
        "colab": {
          "base_uri": "https://localhost:8080/"
        },
        "id": "GB1v7nEc2h-B",
        "outputId": "c98e0122-23d8-4fc7-821a-f028711e3d0c"
      },
      "execution_count": 10,
      "outputs": [
        {
          "output_type": "stream",
          "name": "stdout",
          "text": [
            "Title: Ch 4.1 Materials: Metals and Non Metals (Science, Grade 8, CBSE) The LandMark - Hindi Exp Series\n",
            "Tags: Science,Introduction,force,laws,motion,Easy,Hindi,Explanation,improvement,food,resources,study,study material,hindi study,Subject,notes,explanation,cbse science help,ncert,home study,weak student,study in hindi,hindi,science,science in hindi,hindi main science,science class 8,cbse science,ncert science,help,asa education,performer hub,grade 8,class 8,ASAD-A01\n",
            "--------------------\n",
            "Title: Mike NOVOGRATZ NEWEST BITCOIN Opinion Will STUN ALL INVESTORS, But DON’T Be SCARED! BLAST INCOMING!\n",
            "Tags: bitcoin,bitcoin news,bitcoin price,bitcoin today,bitcoin analysis,bitcoin technical analysis,bitcoin ta,bitcoin news today,bitcoin live,bitcoin 2019,litecoin,bitcoin trading,bitcoin breakout,bitcoin prediction,altcoin,bitcoin price prediction,bitcoin price today,btc,bitcoin price analysis,#bitcoin,bitcoin crash,bakkt bitcoin,bitcoin rally,bitcoin bottom,bitcoin crypto,bitcoin bullish,bitcoin bearish,bitcoin price 2019\n",
            "--------------------\n",
            "Title: inheritance part 1\n",
            "Tags: inheritance,meerath,ميراث,islam,shariah,law,distribution,siraji,mirath,fiqh\n",
            "--------------------\n",
            "Title: Why is Autoimmune Disease on the Rise?  Is it gluten in the diet?\n",
            "Tags: Dr. Peter Osborne,gluten free society,functional medicine,autoimmune disease,functional medicine nutrition,gluten free diet,celiac disease,dr. osborne,no grain no pain,healthcare science,autoimmune,find functional medicine doctor specializing in autoimmunity,autoimmunity,autoimmune expert functional medicine,inflammation,rheumatoid arthritis,gluten sensitivity,glutenology,does gluten cause autoimmune disease,dose gluten cause inflammation\n",
            "--------------------\n",
            "Title: There Was No First Human\n",
            "Tags: Public Broadcasting Service (Organization),education,pbs digital studios,Joe Hanson (Person),Species (Organism Classification Rank),it's okay to be smart,its okay to be smart,it's ok to be smart,its ok to be smart,human evolution,pbs,evolution,dawkins,darwin,nature,joe hanson,science,biology,natural selection,evolutionary biology,richard dawkins,charles darwin,species,animals\n",
            "--------------------\n",
            "Title: Fun With Blubber! - #sciencegoals\n",
            "Tags: scishow,scishowkids,Jessi Knudsen,Jessi Knudsen Castaneda,Squeaks,science,kids,children,learning,education,school,sci,show,hank,green,home,curriculum,kindergarten,activities,blubber,experiment,shortening,icy water,reindeer,caribou,cooking fat\n",
            "--------------------\n",
            "Title: Rock Paper Scissors: TensorFlow.js Tour\n",
            "Tags: machine learning,tensorflow.js,tensorflowjs\n",
            "--------------------\n",
            "Title: Learn Arabic grammar lesson 10 part 2\n",
            "Tags: learn,arabic,course,grammar,nahw,nouns,verbs,harf,online,class,sarf,learning,morphology,quran,islam,muslim,Qur'an,Quran,Koran,tafseer,tafsir,lesson,tutorial,lessons,basic,alif,beginners,Dr,Abdur,Rahim,education,student,teacher,vlog,discussion,howto,ba,lingustic,miracle,Madinah,Madina,Book,Series,classroom,college,free\n",
            "--------------------\n",
            "Title: All of AQA Forces explained in 25 minutes - GCSE 9-1 Physics REVISION\n",
            "Tags: GCSE,Physics,Level,Revision,Exams,Science,Combined,Trilogy,Triple,AS,Double,Additional,Engineering,Maths,STEM\n",
            "--------------------\n",
            "Title: Russian Material, 1960s - Film 19574\n",
            "Tags: film,footage,archive,material,history,historical\n",
            "--------------------\n",
            "Title: سقارة ودهشور\n",
            "Tags: Bible,tourism,tourist,education,Greek,French,culture,AncientEgyptian,accent,Hebrew,English,Arabic,ancient,teaching,Egypt,translation,languages,history,sermons,guidance,and,monuments,to,Spanish,archaeology,Egyptian,Christian,colloquial,hymns,Chinese,Japanese,issues,Italian,modern,German\n",
            "--------------------\n",
            "Title: FEAR IS NOT AN OPTION FOR ENTREPRENEURS - Motivational Video | Gary Vaynerchuk Motivation\n",
            "Tags: Gary Vaynerchuk,Business,Entrepreneur,Garyvee,speech,gary vaynerchuk 2018,new,FEAR IS NOT AN OPTION FOR ENTREPRENEURS,Motivational Video,gary vaynerchuk motivation,gary vee motivation,gary vaynerchuk fan page,gary vee fan page,motivation,inspiration,entrepreneur motivational speech,motivation to become an entrepreneur,entrepreneurship motivation,how to become successful,mindset of successful people,greatest motivational speech,success advice,how to overcome fear\n",
            "--------------------\n",
            "Title: How to Control and Reprogram bad habits in Urdu || Usman Info Point\n",
            "Tags: usman info point,how to achieve goals,self help,personal growth,motivational,how to success in urdu,how to avoid bad habits,stop bad habits,how long will it take to change a habit,habits of successful people\n",
            "--------------------\n",
            "Title: Root Beer vs Thermite\n",
            "Tags: king of random,grant thompson,the king of random,grant thompson king of random,thekingofrandom,random,random happens,tkor,thermite,root beer,soft drink,pyrotechnics,instant fire,fire,flames,caution,experiment,explosion,hot,energy,melt,powder,iron,science,chemistry,burn,flame,iron oxide,torch,hydrogen,water,diy,solar,how-to,red,kipkay,boom,fireworks,rocket,homemade,mad science,science experiment,life hacks,liquid nitrogen,aluminum powder,reaction,chemical,household\n",
            "--------------------\n",
            "Title: How To Draw Drift From Fortnite\n",
            "Tags: art for kids,Art projects,Art Ideas,Art Tips,how to draw,for kids,tutorial,step by step,art lesson,directed drawing,cartooning,4 kids,draw along,drift,fortnite,skin,easy,simple\n",
            "--------------------\n",
            "Title: Radial Head & Neck Fractures In Children - Everything You Need To Know - Dr. Nabil Ebraheim\n",
            "Tags: fractures,radial neck,radial head,growth plate,physis,children,transpostion,total displacement,nondisplacement,ulna,radius,humerus,capitellum,capitellar views,xrays,Dr. Nabil Ebraheim,Nathan Elkins,UTMC,orthopaedics,UT,miranda,treatment,surgery,symptoms,diagnisis,etiology\n",
            "--------------------\n",
            "Title: The Role of Entrepreneurial Orientation - Combining Old and New Media I L Achtenhagen\n",
            "Tags: Leona,Achtenhagen,Jönköping,MMTC,Business,School,EMMA,Conference,2009,ESCP,Paris,ever-changing,environment,new,Media,Mass,Audience,users,management,entrepreneurial,orientation,Miller,1983,coactively,behaviour,innovativeness,product,process,risk-taking,business,financial,resource,pro-activeness,forwarding,competitive,aggressiveness,autonomy,expert,organize,webpage,opportunity,customer-focus,capability,development,Business School,Executive Education,Europe,Master,Management,MBA,ESCP Europe\n",
            "--------------------\n",
            "Title: The MFCEO Project #169: How to Become Self-Aware and Unlock Your True Potential\n",
            "Tags: #motivation,success,business,criticism,successful,entrepreneur,mindset,motivational,money,entrepreneurship,ceo,podcast,itunes,soundcloud,mfceo,mfceoproject,andyfrisella,andy frisella,1st phorm,motivation,inspiration,millionaire,mentor,billionaire,truth,speaker,goals,dreams,boss,motivational speaker\n",
            "--------------------\n",
            "Title: Part 13-Pleiadian Alaje Message-French sub\n",
            "Tags: ALAJE,alaje,alien,pleiadian,pleiades,plejaden,plejadier,lightbeing,space,galactic,federation,light,wisdom,transformation,2012,ufo,spiritual,meditation,chakra,healing,777ALAJE\n",
            "--------------------\n",
            "Title: What It Takes\n",
            "Tags: Business,Private,Gangster,Organization,Ethics,Negotiation,Leadership,Competition\n",
            "--------------------\n",
            "Title: RSLogix500 PLC Simulator - Free RSLogix 500 - RSLinx - RS500 Emulate.mp4\n",
            "Tags: PLC,Controls,Engineering,Engineer,Lecture,01,Introduction,to,Relays,Programmable Logic Controller,training,tutorial,hands on,programming,learn,Learning,Lesson,AB,Allen,Bradley,Rockwell,Automation,free,download,courses,course,ladder,ladder logic,Micrologix,SLC,500,inputs,outputs,troubleshooting,basic\n",
            "--------------------\n",
            "Title: John Paul DeJoria's Top 10 Rules For Success (@johnpauldejoria)\n",
            "Tags: John Paul DeJoria (Organization Leader),business,advice,help,success,money,work,job,Marketing (Interest),Leadership (Quotation Subject),Job (Quotation Subject),Advice (Media Genre),Personal,Office,Career,Progress,Coaching,Working,Top,Development,Secret,Money (The Office),Attraction,Best\n",
            "--------------------\n",
            "Title: Raymond Warner Signature Deck Scooter Check + Dial Test! 3 14 18\n",
            "Tags: Raymond,Warner,Pro,Scooter,Deck,Wheels,Core,Zone,Triangle,Long,Neck,ODI,Grip,Bar,Ends,Kid,Riding,With,Tape,MY,Tanner,Fox,Sponsor,The,Farm,Evny,Giant,Skate,Park,Mega,Square,Ramp,Drop,Dial,Test,China,Girlfriend,Pontiac,GTO,Antique,Vintage,EPIC,vs,Extreme,Game,of,Claudius,Vertesi,Rocco,Piazza,Check,Top,Phoenix,AOS,V4,District,V2,French,ID,FSA,ISA,Bearing,Reds,Tricks,Spin,Tailwhip,Briflip,devinsupertramp,Custom,Build,TheVaultProScooters,Brad,Stephen,Garlatta,John,Hill\n",
            "--------------------\n",
            "Title: 8 Most Bisexual Animals\n",
            "Tags: bisexual,bisexuals,bisexuality,coming out,bisexual buzzfeed,bisexual men,bisexual women,bisexual test,bisexual quiz,bi,dion yorkie,Courtney-Jai,thenotadam,rj,connor manning,ask a bi guy,MissFenderr,ash hardell,I don't bi it,lgbt,biphobia,bisexual problems,gaby dunn,animals,animal,monkey,bonobo,lion,penguin,giraffe,elephant,snow monkey,japanese macaque,bottlenose dolphin,dolphin,mallard duck,ram,mountain ram\n",
            "--------------------\n",
            "Title: Lisa Randall - Great Teachers\n",
            "Tags: lisa randall,harvard great teachers,great teachers,physics\n",
            "--------------------\n",
            "Title: New Ultrasonic Cleaner Full HD 1080P Review ~ Must Have Item 2016\n",
            "Tags: Jewelry,Watch,Cleaner,Full,Review,Glasses,Absorb,Vibrating,Heat,Cover,HD,Must,See,Have,Gadget,All,Your,Fix,Need,Apple,Motorola,Sony,HTC,Huawei,LG,Samsung,iPhone,iPad,Mini,Pro,Circuit,Board,Mother,Main,IC Chips,Rescue,Recover,Recovery,No,Power,Sound,App,ESN,IMEI#,Missing,YouTube,Playback,Error,Solution,One,Shop,Go Pro,Dash Cam,Water,Damaged,Formula,Speaker,Jack,Headphone,Charging,Port,WiFi,Working,Again,Music,Problem,LCD\n",
            "--------------------\n",
            "Title: Dr. Gabriel Cousens Why You Should Avoid Eating Animal Foods!\n",
            "Tags: Gabriel Cousens,tree of life,diabetes,radiation,ebola,flu,meditation,iodine,immune system,raw vegan,live food,living food,spirituality,consciousness\n",
            "--------------------\n",
            "Title: Flying PENCIL magnet tricks  MARATHI\n",
            "Tags: Magnet experiment,physics\n",
            "--------------------\n",
            "Title: The progress of losing less on your worst days\n",
            "Tags: stock market,day trading,smb capital,trading,investing,markets,wall street,stock trading,options trading,options income,economics,finance\n",
            "--------------------\n",
            "Title: 118 The World in Pictures Justice\n",
            "Tags: Learning,language,grammar,elementary,classroom,class,teaching,teach,resource,resources,speak,learn,student,free,tutorials,talk,lesson,course,audio,classical,education,teacher,school,study,homeschool,university,teachers,schools,students,tutorial,lessons,college,AP,GCSE,AS,speaking,talking,immersion,latinitas,lingua,latina,Latin,ancient\n",
            "--------------------\n",
            "Title: Darwin's Theory of Evolution Refuted - Sheikh Salih As-Sadlan\n",
            "Tags: conference,death,fawzan,arifi,asrar,rashid,murtaza,khan,alkauthar,mercy,mission,islamic,basyouni,qadhi,hamza,yusuf,khutbah,iera,dawah,nasheed,sunnah,bidah,green,lane,masjid,mosque,salafi,publications,refutation,freemasons,dajjal,abu,khadeejah,salafis,quran,hadeeth,red,brick,media,bakr,umar,sufi,barelwi,zakir,naik,peace,makkah,madinah,live,sudais,lecture,deobandi,al-maghrib,almaghrib,jihad,dispatches,debate,shia,shiah,sufism,hanafi,saudi,scholars,tawassul,islam,paradise,hell,usamah hasan\n",
            "--------------------\n",
            "Title: The Best Companion | Subtitled\n",
            "Tags: Nouman Ali Khan,Free Quran Education,Animated Reminders,Darul Arqam Studios,Learn Quran and Islam,muslim,islam,muhammad,quran,koran,muslims,religion,prophet,islamic,menk,brother,mufti,brothers,mercy,friendship,islaam,moslem,nasheed,relations,thedailyreminder,arabic,reminder,bayyinah,allah,salah,teens,sex,sin,temptation,date,dating,affair\n",
            "--------------------\n",
            "Title: How do find the x and y intercepts and graph\n",
            "Tags: How to graph a linear equation,how to graph,graphing linear equations,graph linear equation,graph,linear equation,how to graph a line,graph a line,x-intercept,y-intercept,graphing,6x + 2y = 6,how to find the x and y intercepts of a linear equation in standard form,explain how to find the x and y intercepts of a linear equation,gaph a line using intercepts,graph a line using intercepts,cartesian coordinate system,point,how to find,x and y intercepts,brian mclogan\n",
            "--------------------\n",
            "Title: A Must-Take this Summer - Personal Finance\n",
            "Tags: FNCE,3210,Personal,Finance,summer,ETSU,class,course,Baryla\n",
            "--------------------\n",
            "Title: Monitoring human-elephant conflict in Malaysia\n",
            "Tags: research,Students,human-elephant conflict,malaysian rainforest,elephants,News And Research,MEME,Nottingham University,asian elephant,ecology,Education,School of Geography,Social Sciences,Learn,The University of Nottingham,Dr Ahimsa Campos-Arceiz,Russell Group,tropical rainforest,elephant-human conflict,Experience,UNMC,Study\n",
            "--------------------\n",
            "Title: Bucket of Zoo Animals Learning Zoo Animal Names Colors and Numbers 1 to 12 for Children\n",
            "Tags: zoo,zoo animals,zoo animal names,wild animals,animals,wild,color,colours,numbers,different colors,toy animals,toys for kids,zoo animal toys,toys for children,for kids,for toddlers,babies,preschool,english names of animals,counting numbers,fun toys,kid friendly,family friendly,education,educational,videos for kids kids videos,lion,tiger,elephant,cheetah,hippopotamus,monkey,giraffe,koala bear,zebra,red parrot,blue parrot,parrots,birds,toy videos,teaching,toy\n",
            "--------------------\n",
            "Title: Flag/ Fan Friday ESWATINI! (Geography Now!)\n",
            "Tags: Geography,Geography facts,Travel,learning,teaching,geography now,education,world,earth,information,countries,country,cities,history,culture,languages,continents,Eswatini,Swaziland,Africa,Flag,Fans,Noah,Keith\n",
            "--------------------\n",
            "Title: XCode 4 Tutorial Displaying Images - Geeky Lemon Development\n",
            "Tags: xcode,tutorial,xcode 4 tutorial,Displaying,images,font,size,advanced,full,app,video,game,Geeky,Lemon,Development,ipad,ipod,iphone,ipod touch,photoshop,software,download,macbook\n",
            "--------------------\n",
            "Title: C# Advanced Tutorials: Delegates, Lambdas, Action T, and Func T\n",
            "Tags: Microsoft,C#,.NET,program,programmer,programming,code,coding,coder,develop,developer,development,developing,software,app,application,tutorial,lesson,teach,learn,architecture,design,designing,infrastructure,best practices,advanced,action,func,lambda,expression,delegate,event,events\n",
            "--------------------\n",
            "Title: Market Wrap - April 29, 2015\n",
            "Tags: Sharekhan,sensex,buy,sell,nifty,day,news,trading,stock,market,forex,economy,analysis,stocks,finance,technical,futures,options,currency,markets,april\n",
            "--------------------\n",
            "Title: The fundamental group | Algebraic Topology | NJ Wildberger\n",
            "Tags: AlgTop24,algebraic,topology,fundamental,group,Wildberger,UNSW,loops,paths,surface,algebra,multiplication,sphere,torus,genus,handles\n",
            "--------------------\n",
            "Title: Pre-Market View - October 7, 2015\n",
            "Tags: Sharekhan,sensex,buy,sell,nifty,day,market,stocks,markets,stock,trading,analysis,finance,economy,technical,news,futures,options,forex,currency,financial,gold\n",
            "--------------------\n",
            "Title: Stanford Seminar - Learning, Memory, and Metacognitive Control\n",
            "Tags: stanford online,seminar,CS547,Human-Computer Interaction Seminar,Learning,Memory,Metacognitive Control,Mark Steyvers\n",
            "--------------------\n",
            "Title: Rani Paruchuri: Insurance is the love letter we write to our families\n",
            "Tags: INK Asia 2016,INKtalks,TED,finance,entrepreneur,storytelling,women,feminism,insurance,brand equity,application,digital technology\n",
            "--------------------\n",
            "Title: Stop Complaining | Yoga | Stephen Beitler Taha Yoga\n",
            "Tags: hatha,vinyasa,kundalini,yoga,online,streaming,full,length,class,classes,complete,stephen,beitler,freeyoga,freeyogatv,free,donate,donation,for,beginners,Hatha,Yoga,Meditation,Streaming,Tips,Watch,membership,complaining,support,help,need,hatha yoga,hatha yoga full class,hatha yoga for beginners,vinyasa yoga full class,hatha yoga intermediate,hatha yoga class,free yoga\n",
            "--------------------\n",
            "Title: Where to get energy from?\n",
            "Tags: yoga,meditation,sadhana,dada,sadananda,asana,spirituality,spiritual,practice,lessons,pranayama,tantra,concentration,ananda,marga,consciousness,conscience,chakra,devine,god,guru,universe,for,beginners,mind,elevation,evolution,love,happiness,baba,nam,kevalam,tutorial,how,to,meditate,psychology,yt:cc=on\n",
            "--------------------\n",
            "Title: The Value of the Australian Health System - Hon Sussan Ley MP\n",
            "Tags: Curtin,University,uni,academic,Australia,Perth,Bentley,career,course,curriculum,degree,education,global,graduate,industry,innovation,job,learn,qualification,school,study,teach,western,world,minister,sussan ley,health,sport,lecture,health system,workforce supply,ageing population,jcipp,john curtin institute of public policy,public policy,australian health system,reforms,challenges,government,mp,medical,doctor,medical costs\n",
            "--------------------\n",
            "Title: Road to Legacy  | Episode 11\n",
            "Tags: TylerHarris,Tyler,Harris,Basketball,hoopdiamonds,Page,Daily,Bread,Entrepreneur,Advice,Documentary,Vlogs,Vlogger,vlogs,channels,vloggers,channel,crumbs,Our,daily,bread,devotional,gary,vaynerchuk,garyvee,business,entrepreneurship,best,motivational,videos,455,dailyvee,rant,self,improvement,diy,motivation\n",
            "--------------------\n",
            "Title: The Origin of Life\n",
            "Tags: science,neutrinos,particle,physics,astronomy,cosmology,richard carrier,jesus,historicity,forged fiction,ACM,atheist,community,milwaukee,mythicist,space,evolution,big bang,philosophy,god,religion,apologetics\n",
            "--------------------\n",
            "Title: Parenting Tips - How To Talk To Toddlers\n",
            "Tags: Kids In The House,Parenting Tips,Parenting Advice,Advice Column (Column Genre),Attention,Parenting (Broadcast Genre),How-to (Media Genre),Master Of Social Work (Degree),Child Development (Taxonomy Subject),Parent Educator,Toddler (Risk Factor),Parenting (Media Genre),How to talk to toddlers,Parenting advice,Parenting (Magazine),Parents (Magazine),child,parent,How to communicate with your child,Donna Holloran,Child Development (Literature Subject)\n",
            "--------------------\n",
            "Title: Equestrian Hypnosis - Giving Riders an Edge to Clear Any Hurdles - Part 2\n",
            "Tags: hypnosis,hypnotherapy,hypnotized,trance,subconscious,mind,college,school,hmi,aha,therapy,counseling,equestrian,horse,motivation,institute,HMI,H.M.I.,mental,bank,john,kappas,george,past,life,regression,emotional,physical,suggestibility,somnambulist,nlp,neuro,linguistic,programming,sexuality,hypnotism,hypnotic,web,tv\n",
            "--------------------\n",
            "Title: Javascript Custom Fade Animation Functions Programming Tutorial\n",
            "Tags: javascript tutorial,custom,animation,programming,animate,fade,html,css,html5,css3,opacity,style,code,fadeIn,fadeOut,raw,function,method,tutorial,from,scratch,javascript,website,box,move,slide,container,element,div,Javascript,Tutorial,modular,external,jQuery,framework,library,education,learn,school,online,lesson,teacher,student,animator,programmer,free,web,development,design,flashbuilding\n",
            "--------------------\n",
            "Title: Equity & Trusts - Powers and Duties of Trustees\n",
            "Tags: law,legal,academic,equity,trusts,powers,duties,beneficiaries,discretion,pitt,holt,good faith,experts,advice,reasonableness,bad faith,information,impartiality,duty of care,trustee act 2000,maintenance,advancement,trustee act 1925,land,delegation,exclusion,liability,fraud,armitage,nurse\n",
            "--------------------\n",
            "Title: Berlin 2018 | Conference for Sustainable Innovation (SDGs) - Ingolf Dietrich\n",
            "Tags: Global Goals,Sustainability,SDGs,Business School,politics,linking talents,United Nations Global Goals,education,business career,sustainable,ESCP Europe,ESCP Europe Berlin Campus,ESCP Europe Berlin,Designing Tomorrow,gamechanger,Solve Different,Sustainable Innovation,changemaker,Berlin,Innovation\n",
            "--------------------\n",
            "Title: Teknik Long Exposure / Slow Shutter Speed Di Siang Hari Menggunakan Filter ND 400 (2019)\n",
            "Tags: DSLR,Camera,Digital SLR (Camera Format),Photography (Visual Art Form),Tutorial (Media Genre),belajar fotografi,Fotografi,Canon,Photographer,Fotografer,Article,Digital,Learning,Sharing,Chitose Gallery,Piyus Silaban,Review,Nikon,Lens,Still Camera,Photograph (Media Genre),photoshop,lightroom,Amatir,Pemula,Amateur,ND Filter,Long Exposure,Slow Speed,HDR,Step up ring,Landscape,Shutter Speed,Neutral Density Filter,Photographic Filter,Sunset,Long-exposure Photography\n",
            "--------------------\n",
            "Title: New York Neighbourhood, 1960s - Film 96637\n",
            "Tags: film,footage,archive,material,history,historical\n",
            "--------------------\n",
            "Title: Circumference (Simplifying Math)\n",
            "Tags: circumference,circle,diameter,lesson,math,algebra,prealgebra,geometry,pi,around,outside,distance,formula,C=pid,mathematics,eric buffington,field of study,simplifying math,maths,exact circumference,dimension\n",
            "--------------------\n",
            "Title: Innovation 101 Ep 6: Prototyping & Testing - Social Enterprises\n",
            "Tags: UNSW Sydney,UNSW Australia,University of New South Wales,Sydney,Australia. University,unsw,university,facts,Branko Yu,Fortunate Food Company,prototyping,social business,social enterprise,innovation\n",
            "--------------------\n",
            "Title: 4. Introduction to Programming with VBA - Variable Names and Data Types\n",
            "Tags: vba,visual basic for applications,programming,variables,data types,introduction,beginner,year of code,code year,variable declaration,dim statement\n",
            "--------------------\n",
            "Title: Money King Fully exposed with proofs\n",
            "Tags: bitcoin,crypto,btc,india,hindi,money king,cryptocurrency,icos review,lucky mittal,moneyking,money king exposed,indian youtuber,best coins\n",
            "--------------------\n",
            "Title: Ableton Live tutorial: Changing external instrument presets | lynda.com\n",
            "Tags: Musical Instrument (Industry),Ableton Live (Software),Ableton (Business Operation),lynda.com,lynda,online tutorial,tutorial,Ableton Live,St. Vincent,Daniel Mintseris,keyboard,onstage setup,audio mixing,audio,music,external instrument preset,instrument preset\n",
            "--------------------\n",
            "Title: 6 Most Effective Home Remedies for Cholesterol\n",
            "Tags: styH,6 Most Effective Home Remedies for Cholesterol,natural,ldl,cholesterol,hdl,health,naturally,how to,bad cholesterol,remedies,home remedies for high cholesterol,how to lower cholesterol,how to reduce cholesterol,high cholesterol,cholesterol treatment,heart attack,reduce cholesterol,how,heart blockage treatment without surgery,home,to,hacks,ayurvedic,weight,loss,hair,wellness,homeremedysomimainatv,hamad,muskaan,ginger garlic juice,natural juice,henna,mehndi\n",
            "--------------------\n",
            "Title: Sales Wolves Podcast   Episode 58 \"Tyler Interviews One Of His Biggest Mentors\"\n",
            "Tags: TylerHarris,Tyler,Harris,Jack,TylerJackHarris,Basketball,hoopdiamonds,Page,Daily,Bread,Entrepreneur,Advice,Documentary,Vlogs,Vlogger,vlogs,channels,vloggers,channel,crumbs,Our,daily,bread,devotional,gary,vaynerchuk,garyvee,business,entrepreneurship,best,motivational,videos,455,dailyvee,rant,self,improvement,diy,motivation\n",
            "--------------------\n",
            "Title: मौन - The Power Of Silence | This Can Change Everything ! Part Of Meditation [ Listen And Learn! ]\n",
            "Tags: nikology,The Power of Silence,Meditation,Spiritual,secret power of meditation,meditation speech in hindi,power of meditation,Basic Meditation,How to Meditate for Beginners,sound of silence,inspirational,inspiring,videos,motivational,success,india,life-changing,life,changing,workshop,ideas,hindi,greatest,talk,positive,thinking,powerful,leadership,session,spiritual,spirituality,meditation,how to meditate,meditation technique,meditation videos,meaning of meditation,niraj,patel\n",
            "--------------------\n",
            "Title: CARTA: Human-Climate Interactions and Evolution: Past and Future\n",
            "Tags: climate change,evolution,Jeff Severinghaus,William Ruddiman,Charles Kennel\n",
            "--------------------\n",
            "Title: Types of Parameters in Macro - Positional,Keyword,Default,Mixed ll Explained with Examples in Hindi\n",
            "Tags: 5-minutes engineering,engineering,5-minutes,artificial intelligence,database management system,software modeling and designing,Software engineering and project planning,data mining and warehouse,data analytics,Mobile communication,Mobile computing,Computer networks,high performance computing,parallel computing,Operating system,Software programming SPOS,web technology,internet of things,design and analysis of algorithm\n",
            "--------------------\n",
            "Title: The One Law of Selling ANYTHING to ANYONE\n",
            "Tags: sell anything to anyone,how to sell to anyone,how to close anyone,how to sell to any customer,selling to any client,how to increase sales,close more sales,closing techniques,best sales strategies,best sales techniques,closing the sale,closing a sale you would have lost,closing a sale tips,how to sell,sale techniques,sales strategies,sales strategy,sales training techniques,strategies to increase sales,yt:cc=on\n",
            "--------------------\n",
            "Title: Ratio and Proportion - Example 3\n",
            "Tags: Ratio,proportion,ratio and proportion solved examples,ratio solved examples,proportion solved examples\n",
            "--------------------\n",
            "Title: 前高盛交易员安东克雷欧（Anton Kreil）揭露交易的真相 － 6 第六部分\n",
            "Tags: Million Dollar Traders,Trading Room,Stocks,Finance,Currency,forex trader,investment,technical analysis,futures,options,bloomberg,economics,gold,shares,goldman sachs,morgan stanley,tim sykes,greg secker,lex van dam,real vision tv,institute of trading,anton kreil,china,Chinese economy,shanghai,nyse,cbot,Nasdaq,wolf of wall street,jordan Belfort,news,day trader\n",
            "--------------------\n",
            "Title: Free Market Environmentalism | Ivan Pongracic\n",
            "Tags: Independent Institute,Free Market,Environmentalism,Pollution,tragedy of the commons,externalities,negative externalities,free market economics,Ivan Pongracic,ronald coase,industrial revolution,environmental resources,property rights,private property,Hillsdale College,economic freedom,free market,privatization,deregulation,water,green tech,innovation,wilderness,national parks,fossil fuel,fracking\n",
            "--------------------\n",
            "Title: Construyendo las conexiones eléctricas del coche autónomo con arduino\n",
            "Tags: arduino,conexiones,autonomo,mega,encoder,puente H,facil,tutosingenieria,interrupciones,PWM,control,PID,motores\n",
            "--------------------\n",
            "Title: “You MUST Buy AS MUCH BITCOIN As You CAN, $13K COMING Tuesday July 9th” - BTC Illuminati Reveals How\n",
            "Tags: bitcoin,bitcoin news,bitcoin price,bitcoin today,bitcoin analysis,bitcoin technical analysis,bitcoin news today,bitcoin 2019,bitcoin price prediction,bitcoin prediction,bitcoin trading,bitcoin ta,litecoin,bitcoin live,altcoin,bitcoin crash,bitcoin rally,bitcoin price analysis,bitcoin analysis today,bitcoin price news,bitcoin price today,bitcoin btc,btc,bitcoin market,bitcoin bearish,bitcoin bull run,bitcoin bullish\n",
            "--------------------\n",
            "Title: The Biggest Silver & Gold Scam In History\n",
            "Tags: gold silver gold and silver mike maloney buy silver,buy gold,peter schiff,silver bullion,bitcoin,dogecoin,litecoin,stormcloudsgathering,Gold (Chemical Element),Silver (Chemical Element),Coin Collecting (Collection Activity),History,Documentary,buy silver,COMEX,default,Economy,Economic,Freedom,Collapse,Reserve,Crisis,Dollar,mike maloney,maloney,michael maloney,rich dad\n",
            "--------------------\n",
            "Title: Mormon Stories #928: Shawn McCraney - Breaking the Bondage of Religion Pt. 2\n",
            "Tags: lds,mormon,faith,doubt,transitions,exmormon,shawn mccraney,christian,christianity,hotm,heart of the matter,campus church,utah\n",
            "--------------------\n",
            "Title: Pre-market View - April 4, 2012 by Sharekhan\n",
            "Tags: pre-market,markets,stock markets,market opening,fundamental view,technical view,advisory,sharekhan,market expectation,sensex,nifty,stocks,finance,technical charts,news,stock market news,morning view,opening bell,bse,nse,f&o,options,shares,share market.\n",
            "--------------------\n",
            "Title: \"Adventure Academy is the best of both worlds.\" - Kid testimonial by Adventure Academy\n",
            "Tags: abcmouse.com,abcmouse,abc,mouse,abc mouse,kids,learning,games,preschool,prek,kindergarten,ad,commercial,TV,school,teacher,headstart,ABC's,early academy,childhood,education,family,parents,online,ESL,homeschool,homeschooling,reading,math,phonics,music,art,books,songs,puzzles,printables,mathematics,numbers,shapes,curriculum,children,phonemic,vocabulary,adventure academy\n",
            "--------------------\n",
            "Title: I'm NOT Freelee the Banana Girl! [And That's Okay!]\n",
            "Tags: Freelee the Banana Girl,vegan activism,Freelee,banana girl,vegan advocacy,animal activism,how to be an activist,speak up,animal rights,raw till 4,rawtill4,Activism,activist,vegan activist,animal activist,effective,bite size vegan,Emily Moran Barwick,motivation,inspiring,inspirational speech,veganism,why be vegan,vegan diet,animal liberation,vegan,YouTube,how to succeed on YouTube,YouTube coaching,Coaching (Industry),Vegan coaching,Activism coaching\n",
            "--------------------\n",
            "Title: Class Constructors | C++ Object Oriented Programming Video Tutorial\n",
            "Tags: Class,Object,Object-oriented Programming (Programming Language Paradigm),class constructor,cpp,cpp tutorials,cplus plus basics,c++ tutorial for beginners,program examples,video lectures,complete tutorials series,C++ (Programming Language)\n",
            "--------------------\n",
            "Title: How to find the trend in the stock market, currencies forex and commodities.\n",
            "Tags: tradepro academy,trade pro academy,where is a market going,how to tell if the stock market is going up or down,stock market,trend trading,stocks,stock market for beginners,technical analysis,investing,trading,stock trading,invest,economy,forex,forex trading,trend following,swing trading,learn to trade,day trading,how to trade,trading strategies,trading strategy,forex strategy,market,finance,stock,investment,trade,business,top stocks\n",
            "--------------------\n",
            "Title: SUPPORT ME ON PATREON !\n",
            "Tags: WHITE SUPREMACY,RACISM,RACIST,KKK,NEELY FULLER JR,NEELY FULLER,FRANCES CRESS WELSING,POLICE BRUTALITY,LYNCH,LYNCHING,GOD,ISRAEL,TRIBE OF ISRAEL,JUDAH,SLAVES,SLAVERY,SLAVE,FREEDOM,HAITI,REVOLUTION,MALCOLM X\n",
            "--------------------\n",
            "Title: This NEEDS To Happen For Bitcoin’s Price To Stabilize\n",
            "Tags: bitcoin,bitcoin price news,bitcoin price growth,bitcoin crash over,bitcoin crash,when to buy bitcoin,is it good to buy bitcoin,is buying bitcoin now good,is now a good time to buy bitcoin,when to buy bitcoin 2018,bitcoin price 2018,bitcoin price mid 2018,bitcoin price rise,bitcoin price eruption 2018,bitcoin price blast 2018,bitcoin price recovery,bitcoin price recover,bitcoin price revival,will bitcoin’s price recover\n",
            "--------------------\n",
            "Title: The Life of Zubair Ibn-Awaam (RA) (Urdu)\n",
            "Tags: conference,death,fawzan,arifi,asrar,rashid,murtaza,khan,alkauthar,mercy,mission,islamic,reminder,qadhi,hamza,yusuf,khutbah,iera,dawah,nasheed,sunnah,bidah,green,lane,masjid,mosque,salafi,publications,refutation,freemasons,dajjal,abu,khadeejah,salafis,quran,hadeeth,red,brick,media,bakr,umar,sufi,barelwi,zakir,naik,peace,makkah,madinah,live,sudais,huda,emotional,lecture,deobandi,al-maghrib,almaghrib,jihad,dispatches,debate,shia,shiah,sufism,hanafi,saudi,scholars,tawassul,islam,paradise,hell\n",
            "--------------------\n",
            "Title: 6 Point Star Table Topper\n",
            "Tags: how,sew,6point,star,table,topper,fast,easy,quick,simple,beginner,crafts,craft,tutorial,project,idea,to,kid,friendly,sewing,machine,fabric,christmas,holidays,thread,youtube,Scrappy's Patch,batting,template\n",
            "--------------------\n",
            "Title: How to Install Python 3.6 on Mac OS X\n",
            "Tags: Python (Programming Language),Software (Industry),How-to (Website Category),Mac OS X,Mac,Python 3.6,Python,Python 3,Mavericks,Yosemite\n",
            "--------------------\n",
            "Title: Indices - Daily Math #38\n",
            "Tags: a-level,aqa,edexcel,ocr,21century,gateway,chemistry,physics,gcse,as,a2,exam,revision,paper,test,high,school,biology\n",
            "--------------------\n",
            "Title: Dr. and Master Sha: Master Peter's Da Bei Zhou Blessing, Vancouver, BC, August 2011\n",
            "Tags: soul healing,health,healing,depression,pain,anxiety,unemployment,headaches,relationships,2012,weight loss,arthritis,cancer,diabetes,ADHD,Alzheimer,war,violence,aging,heart attack,AIDS,disorders,energy,fatigue,immunity,money,work,success,Tao,Meditation,Chanting,techniques,spirituality,radio,tv,charity,videos,retreats,Dr Sha,Master Sha,Soul Operations,Divine Download,Dr.,Master,Sha,Soul Healing Miracles,chanting,karma,Doctor and Master Sha\n",
            "--------------------\n",
            "Title: Lec 21 | MIT 18.085 Computational Science and Engineering I, Fall 2008\n",
            "Tags: linear,algebra,networks,Lagrange,multipliers,differential,equations,of,equilibrium,Laplace's,equation,potential,flow,boundary-value,problems,Fourier,series,discrete,transform,convolution\n",
            "--------------------\n",
            "Title: Yung Theory of Personality in Psychology 2018 latest in hindi\n",
            "Tags: dsssb,prt,dsssb online application,dsssb online form,ssc chsl online form,ctet online application form,latest tgt pgt vacancy,ctet registration form,ctet exam online,ctet online form,ctet online form date,htet website,dsssb recruitment 2017 notification,dsssb admit card 2017,dsssb apply online,dsssb syllabus,dsssb recruitment,insurance,website,ssc online,rrb,rsmssb,gk questions,school,teacher\n",
            "--------------------\n",
            "Title: How to Teach Summarizing\n",
            "Tags: harcourt,ccss,skill name,Literacy,development,summarizing,education,learning,math,mcgraw,reading,technology,pedagogy,mcgraw hill education,The McGraw-Hill Companies (Business Operation),common core state standards,hmh,mcgraw hill videos,elementary,how to summarize,too much information,answer who what where when and why,great summary,teaching summarization skills\n",
            "--------------------\n",
            "Title: Structure Packing in C\n",
            "Tags: structure packing,structure packing in c,structure padding and packing in c,structure padding and packing,structure packing example,packing of structures,structure packing in c programming,structures,structures in c,structures in c programming,c programming,c programming for gate,gate c programming\n",
            "--------------------\n",
            "Title: 2.1.6 Explain the importance of the surface area to volume ratio as a factor limiting cell size\n",
            "Tags: IB,Biology,help,review,assessment,statement,Surface Area,Volume,ratio,cells,educational,tutorial,biology,international,baccalaureate\n",
            "--------------------\n",
            "Title: Rumbo al inglés (Episode 17): \"I am & You are\"   | Nivel Básico\n",
            "Tags: vaughan radio,radio,rumbo al ingles,clases particulares,clases,English lessons,learn English,study English,English vocabulary,English pronunciation,inglés para principiantes,inglés básico,Lección de inglés básico,lección básica de inglés,basic English,inglés,curso completo de inglés,curso de inglés gratis,aprender ingles,aprende ingles,this,it´s\n",
            "--------------------\n",
            "Title: 55 x 5 Manifesting SUCCESS Stories | Manifestation Monday Law of Attraction\n",
            "Tags: how to be happy,how to be positive,how to get out of a rut,how to manifest,how to stay motivated,how to use law of attraction,how to use the secret,law of attraction love,law of attraction success,law of attraction success stories,leeor alexandra,loa,manifestation,manifestation monday,manifestation success stories,motivation,the secret law of attraction,the secret success stories,wouldn't it be nice\n",
            "--------------------\n",
            "Title: Friday Recap - A Solution to Slow & Choppy Markets\n",
            "Tags: trading,stock market,swing trading,day trading,daytrading,swingtrading,education,stocks,stacks,money,news,wall street,wallstreet,options,futures,forex,technical analysis,business,economy,economics,market,analysis,fundamental analysis,finance,investment,stock,trade,financial,invest,entrepreneur,personal finance,online investing,SPY,freedom\n",
            "--------------------\n",
            "Title: ORACLE 12C Online Training || Class - 9 || by Dinesh\n",
            "Tags: durga,durga sir,durgasoft,interview,questions,java,software,training\n",
            "--------------------\n",
            "Title: Memory Card Game - JavaScript Tutorial\n",
            "Tags: javascript,javascript tutorial,learn javascript,javascript tutorial for beginners,vanilla javascript,javascript course,javascript game,pure javascript,pure javascript game,pure javascript projects,pure js game,pure js project,vanilla js,learn javascript for beginners,vanilla javascript project,vanilla javascript game,vanilla js game,vanilla js project,vanilla js tutorial,javascript game for beginners,javascript game tutorial,tutorial,beginners,how-to\n",
            "--------------------\n",
            "Title: Learning Greater Than Less Than and Equal To with Surprise Eggs! Spaceships and Outer Space!\n",
            "Tags: Outer Space,Spaceship,Surprise Egg,Egg,Eggs,Surprise,Open,Opening,Toy,Toys,Fun,Funny,Count,Counting,Number,Learn,Teach,Lesson\n",
            "--------------------\n",
            "Title: (OLD) Vinci Game: A Development Diary\n",
            "Tags: game,development,design,unity\n",
            "--------------------\n",
            "Title: Angular 03rd Class In English Praveen Gubbala 9059868766 I 04th may 2019\n",
            "Tags: Aswininitelugu954,vlrtraining,Angular 03rd Class In English Praveen Gubbala,angular in 2019,learn angular,angular tutorial,Angularin english,javascript tutorial,learn javascript,javascript in 2019,javascript course for beginners,javascript,programming tutorial,javascript course,angular with javascript,Angular With Projects tutorial,By Praveen In English,vlr angular,javascript basics,angular basics,2019angular js tutorial,Class03,angular classes\n",
            "--------------------\n",
            "Title: Tommy Cooper, 1950's - Film 314\n",
            "Tags: film,footage,archive,material,history,historical,nineteen,fifties\n",
            "--------------------\n"
          ]
        }
      ]
    },
    {
      "cell_type": "code",
      "source": [
        "data = []\n",
        "\n",
        "# Extract titles and tags and append to the data list\n",
        "for index, row in stem_videos.iterrows():\n",
        "  data.append([row['title'], row['tags']])\n",
        "\n",
        "# Create a Pandas DataFrame\n",
        "df = pd.DataFrame(data, columns=['Title', 'Tags'])\n",
        "\n",
        "# Export to Excel\n",
        "df.to_excel('/content/drive/MyDrive/edu-data/stem_video_titles_tags_0.xlsx', index=False)"
      ],
      "metadata": {
        "id": "m-6cBrlZ2wtE"
      },
      "execution_count": 13,
      "outputs": []
    },
    {
      "cell_type": "code",
      "source": [
        "total_videos_per_country = df_video_with_country['country'].value_counts(normalize=True) * 100\n",
        "\n",
        "stem_videos = df_video_with_country[df_video_with_country['is_stem'] == True]\n",
        "stem_videos_per_country = stem_videos['country'].value_counts(normalize=True) * 100\n",
        "\n",
        "comparison_df = pd.DataFrame({\n",
        "    'Total Videos (%)': total_videos_per_country,\n",
        "    'STEM Videos (%)': stem_videos_per_country\n",
        "}).fillna(0)\n",
        "\n",
        "top_10_countries = comparison_df.sort_values('STEM Videos (%)', ascending=False).head(10)\n",
        "\n",
        "india_total = comparison_df.loc['IN', 'Total Videos (%)'] if 'IN' in comparison_df.index else 0\n",
        "\n",
        "india_stem = comparison_df.loc['IN', 'STEM Videos (%)'] if 'IN' in comparison_df.index else 0\n",
        "\n",
        "print(\"Top 10 Countries - Comparison of Total Videos and STEM Videos:\")\n",
        "print(top_10_countries)\n",
        "\n",
        "plt.figure(figsize=(12, 6))\n",
        "top_10_countries[['Total Videos (%)', 'STEM Videos (%)']].plot(kind='bar', figsize=(16, 8), width=0.8)\n",
        "plt.title('Top 10 Countries - Comparison of Total Videos and STEM Videos', fontsize=16)\n",
        "plt.xlabel('Country', fontsize=14)\n",
        "plt.ylabel('Percentage (%)', fontsize=14)\n",
        "plt.xticks(rotation=45, fontsize=12)\n",
        "plt.yticks(fontsize=12)\n",
        "plt.legend(fontsize=12)\n",
        "plt.grid(axis='y', linestyle='--', alpha=0.7)\n",
        "plt.tight_layout()\n",
        "plt.show()\n",
        "\n",
        "print(f\"India's Total Video Percentage: {india_total:.2f}%\")\n",
        "print(f\"India's STEM Video Percentage: {india_stem:.2f}%\")"
      ],
      "metadata": {
        "colab": {
          "base_uri": "https://localhost:8080/",
          "height": 1000
        },
        "id": "7Spur8mp2zuy",
        "outputId": "96059a3a-b292-40be-ff1d-5435694f3084"
      },
      "execution_count": 12,
      "outputs": [
        {
          "output_type": "stream",
          "name": "stdout",
          "text": [
            "Top 10 Countries - Comparison of Total Videos and STEM Videos:\n",
            "         Total Videos (%)  STEM Videos (%)\n",
            "country                                   \n",
            "US              46.734390        50.169346\n",
            "IN              21.909008        16.573970\n",
            "GB               7.246793        12.818915\n",
            "CA               3.409865         3.600624\n",
            "ES               1.864329         3.386535\n",
            "AU               1.777452         2.060466\n",
            "DE               0.908732         1.130481\n",
            "EG               0.552646         1.110469\n",
            "CH               0.375073         0.638114\n",
            "IL               0.740261         0.516155\n"
          ]
        },
        {
          "output_type": "display_data",
          "data": {
            "text/plain": [
              "<Figure size 1200x600 with 0 Axes>"
            ]
          },
          "metadata": {}
        },
        {
          "output_type": "display_data",
          "data": {
            "text/plain": [
              "<Figure size 1600x800 with 1 Axes>"
            ],
            "image/png": "[encoded data removed]"
          },
          "metadata": {}
        },
        {
          "output_type": "stream",
          "name": "stdout",
          "text": [
            "India's Total Video Percentage: 21.91%\n",
            "India's STEM Video Percentage: 16.57%\n"
          ]
        }
      ]
    },
    {
      "cell_type": "code",
      "source": [
        "# Extract only the is_stem column because it's so costly saving the whole dataset again\n",
        "is_stem_column = df_video_with_country['is_stem']\n",
        "\n",
        "# Save the column to a CSV file\n",
        "is_stem_column.to_csv('/content/drive/MyDrive/edu-data/is_stem_column_0.csv', index=False)"
      ],
      "metadata": {
        "id": "VFtTpZlcI6tf"
      },
      "execution_count": 14,
      "outputs": []
    }
  ]
}