{
 "cells": [
  {
   "cell_type": "code",
   "execution_count": 2,
   "id": "e2125ed1-5d26-435b-9922-639dd0a1ce34",
   "metadata": {},
   "outputs": [],
   "source": [
    "import gc\n",
    "import json\n",
    "import polars as pl\n",
    "import numpy as np\n",
    "from tqdm import tqdm\n",
    "from sentence_transformers import SentenceTransformer\n",
    "from sklearn.metrics.pairwise import cosine_similarity"
   ]
  },
  {
   "cell_type": "code",
   "execution_count": 3,
   "id": "292b1c05-a09f-41f2-afa1-83d591b14c70",
   "metadata": {
    "scrolled": true
   },
   "outputs": [],
   "source": [
    "df_path = '/Users/antonina/Desktop/ADA/edu-data/video_with_channelcountry.csv' # change it for your path\n",
    "video_country = pl.read_csv(df_path).filter(pl.col(\"country\").is_not_null())"
   ]
  },
  {
   "cell_type": "code",
   "execution_count": 7,
   "id": "0dcdc9e4-7f55-4c39-8575-76386218978a",
   "metadata": {
    "scrolled": true
   },
   "outputs": [],
   "source": [
    "with open('stem_tags_fw90.json', 'r') as file:\n",
    "    tags = json.load(file)"
   ]
  },
  {
   "cell_type": "code",
   "execution_count": 10,
   "id": "f19c988e-7fb1-4c2d-a841-3f2878a8b1b7",
   "metadata": {},
   "outputs": [],
   "source": [
    "def classify_stem_videos(\n",
    "    df: pl.DataFrame, \n",
    "    stem_tags: list[str], \n",
    "    tag_column: str = \"tags\", \n",
    "    threshold: float = 0.5,\n",
    "    batch_size: int = 10000\n",
    ") -> pl.DataFrame:\n",
    "    \n",
    "    # Convert stem_tags to a set for O(1) lookup and store lowercase versions\n",
    "    stem_tags_set: Set[str] = {tag.lower().strip() for tag in stem_tags if tag is not None}\n",
    "    \n",
    "    def process_batch(batch_df: pl.DataFrame) -> pl.Series:\n",
    "        def calculate_stem_percentage(tags_str: str) -> bool:\n",
    "            if not isinstance(tags_str, str):\n",
    "                return False\n",
    "            \n",
    "            try:\n",
    "                video_tags = [\n",
    "                    tag.strip().lower() \n",
    "                    for tag in tags_str.split(\",\") \n",
    "                    if tag and tag.strip()\n",
    "                ]\n",
    "                \n",
    "                if not video_tags:\n",
    "                    return False\n",
    "\n",
    "                stem_count = sum(1 for tag in video_tags if tag in stem_tags_set)\n",
    "                return (stem_count / len(video_tags)) >= threshold\n",
    "                \n",
    "            except (AttributeError, TypeError, ValueError) as e:\n",
    "                print(f\"Error processing tags: {tags_str}, Error: {e}\")\n",
    "                return False\n",
    "    \n",
    "        return pl.Series([calculate_stem_percentage(tags) for tags in batch_df[tag_column]])\n",
    "    \n",
    "    total_rows = df.height\n",
    "    num_batches = (total_rows + batch_size - 1) // batch_size\n",
    "\n",
    "    results = []\n",
    "    \n",
    "    with tqdm(total=total_rows, desc=\"Classifying videos\") as pbar:\n",
    "        for i in range(0, total_rows, batch_size):\n",
    "            try:\n",
    "                batch = df.slice(i, min(batch_size, total_rows - i))\n",
    "                batch_results = process_batch(batch)\n",
    "                results.append(batch_results)\n",
    "                pbar.update(batch.height)\n",
    "                gc.collect()\n",
    "                \n",
    "            except Exception as e:\n",
    "                print(f\"Error processing batch starting at index {i}: {e}\")\n",
    "                continue\n",
    "\n",
    "    try:\n",
    "        is_stem_column = pl.concat(results, rechunk=True)\n",
    "        return df.with_columns([\n",
    "            is_stem_column.alias(\"is_stem\")\n",
    "        ])\n",
    "    except Exception as e:\n",
    "        print(f\"Error combining results: {e}\")\n",
    "        return df.with_columns([\n",
    "            pl.lit(False).alias(\"is_stem\")\n",
    "        ])"
   ]
  },
  {
   "cell_type": "code",
   "execution_count": 11,
   "id": "05831d12-dd5d-4cca-a2c1-00467703d770",
   "metadata": {
    "scrolled": true
   },
   "outputs": [
    {
     "name": "stderr",
     "output_type": "stream",
     "text": [
      "Classifying videos: 100%|██████████| 1911894/1911894 [00:22<00:00, 86279.80it/s]\n"
     ]
    }
   ],
   "source": [
    "result_df = classify_stem_videos(video_country, tags)"
   ]
  },
  {
   "cell_type": "code",
   "execution_count": 12,
   "id": "698840a8-cdd7-47ee-9e97-29254a9d29f8",
   "metadata": {},
   "outputs": [],
   "source": [
    "stem_videos = result_df.filter(result_df['is_stem'] == True)"
   ]
  },
  {
   "cell_type": "code",
   "execution_count": 13,
   "id": "997b127a-e167-4fbf-a3d8-14e37d1a5a72",
   "metadata": {},
   "outputs": [
    {
     "data": {
      "text/plain": [
       "3153"
      ]
     },
     "execution_count": 13,
     "metadata": {},
     "output_type": "execute_result"
    }
   ],
   "source": [
    "len(stem_videos)"
   ]
  },
  {
   "cell_type": "code",
   "execution_count": 17,
   "id": "de82a83d-b6e2-4931-b197-668bc3cc6112",
   "metadata": {},
   "outputs": [
    {
     "data": {
      "text/plain": [
       "['How to calculate Volatility using expected returns',\n",
       " 'Channel Sabbatical',\n",
       " 'ADHD is a Superpower, Beware of Negative Labels',\n",
       " 'Why do we measure temperature in the shade?',\n",
       " 'What is Peninsular Convergence?',\n",
       " 'Pretty Much Pop#4: \"Chernobyl\" and the Art of Suffering',\n",
       " 'PHP Basics - Variables Part 1',\n",
       " 'What are the Top 3 Attributes of a Programming Language?',\n",
       " 'Should you TAKE the Ruby Job ... is Java Dead?',\n",
       " 'Google Chooses Kotlin over Java!',\n",
       " 'Top 7 Programming Languages on Github in 2019',\n",
       " 'How Netflix Uses Python',\n",
       " 'Python is the Fastest Growing Language of 2019',\n",
       " 'JavaScript and CoffeeScript?',\n",
       " 'Stef Vlogs about Java for Web Apps in 2019 ... and MORE!',\n",
       " 'Java: hard to learn, easy to write ... but slow to code with!',\n",
       " 'What Programming Languages do the Most Popular Websites Use?',\n",
       " 'How Important is Kotlin in 2019?',\n",
       " 'Should you Learn C# in 2019?',\n",
       " 'The Python Programming Deception?',\n",
       " 'Should you Learn C++ in 2019?',\n",
       " 'Bitcoin in 2019 ... what will happen?',\n",
       " 'What are UX Principles? Tips for Developers.',\n",
       " 'NERD TRIGGERING ALERT: Crapto-Currencies and Miners',\n",
       " 'Why focus on Programming Fundamentals?',\n",
       " 'Does Stef Hate Ruby?',\n",
       " 'Crypto Coins != Blockchain',\n",
       " 'Python Programming - The Origin Story',\n",
       " 'How important is the SPEED of a Programming Language?',\n",
       " 'Diversification in your coding skills',\n",
       " 'Should you learn C++ in 2016?',\n",
       " 'Decision Making and Setting Priorities',\n",
       " 'Cloud Hosting is the Game Changer',\n",
       " 'The Best Programming Language Ever!!',\n",
       " 'Business implications of a programming language or framework',\n",
       " 'Why you should learn JavaScript in 2016',\n",
       " 'What are microservices and how to use them.',\n",
       " 'When China Attacks!',\n",
       " 'Keep your PHP Code Simple',\n",
       " 'Learning PHP, a PHP book review and PHP versions',\n",
       " 'Making Programming Career Choices',\n",
       " 'web programming degree',\n",
       " 'php student roadmap',\n",
       " 'The Future of PHP',\n",
       " 'Introduction To Machine Learning ll Machine Learning Course Explained With RealLife Examples (Hindi)',\n",
       " 'What is cholesterol ? Good or bad ? Prevention from high cholesterol !',\n",
       " 'Homeopathic medicine Eosinum ! sign and symptoms ! cancer and polyarthritis ? कैंसर की दवा ।',\n",
       " 'ADHD ! Homeopathic medicine for Attention deficit hyperactivity disorder ? Explain !',\n",
       " 'Homeopathic medicine for growth and height of children ? explain !',\n",
       " 'Syzygium Jambolanum ! Homeopathic medicine for Diabetes? मधुमेह की जामुनी दवा??',\n",
       " 'अगर आपके परिवार में किसी को Cancer हुआ है तो आप कौन सी Homeopathic Medicine ले कि आपको ना हो ?',\n",
       " 'Uranium nitricum | Diabetes से होने वाली problems को ठीक करें | और sugar control करें |',\n",
       " '3D image of enzymes',\n",
       " 'Live Fellowship!  MAX Talks EVIL-lution',\n",
       " 'ASC 2012 | Prof. Howard (Haim) Sider | The footnotes of life',\n",
       " 'Professor Haim Cedar. A Personal History of Epigenetics - Lecture 4: Stem Cells and Cancer',\n",
       " 'Peer Pressure',\n",
       " 'What Is Blockchain?',\n",
       " 'Value Investing (Online) Program: Overview',\n",
       " 'Q&A on Regulating Cryptocurrencies',\n",
       " 'Trends and Opportunities in Cybersecurity Regulation',\n",
       " 'Go Deep, then Go Broad',\n",
       " 'Ben Horowitz ‘88CC on Cryptocurrency',\n",
       " 'Venture Capital: Motivation',\n",
       " 'Collaborating to Fight Cancer',\n",
       " 'Dan Wang: Venture Capital Networks and Entrepreneurial Performance',\n",
       " 'Wei Jiang: Disagreement on Valuation – Appraisals as Arbitrage',\n",
       " 'Entrepreneurship: Demoing Your Idea',\n",
       " 'Niels Schuurmans: \"Let\\'s Be Famous For Something Different\"',\n",
       " 'Understanding How Stress & Hormones Are Related',\n",
       " 'Systemic Enzymes',\n",
       " 'C++ Tutorial 21 : C++ Regex 3',\n",
       " 'C++ Tutorial 10 : Object Oriented Programming',\n",
       " 'C++ Tutorial',\n",
       " 'Learn to Program 18 Regular Expression Tutorial 4',\n",
       " 'Motivational talk by Dr Mohit Patil (NEET Score 590) Biomentors Commando 2017 - 18 session',\n",
       " 'ANSWERS OF AN ALIEN FROM ANDROMEDA - Nibiru and Events.Update',\n",
       " 'Huge C.M.E.Sept.1 2012',\n",
       " 'I.2: Probability Basics - The Nature of Code',\n",
       " '7.1: Introduction to Functions and Objects - Processing Tutorial',\n",
       " '8.3: Defining a Class Part II - Processing Tutorial',\n",
       " 'History of Bitcoin (BTC)',\n",
       " 'SoFi Presents: Crypto 101 | SoFi',\n",
       " 'Kinematics of Uniform Circular Motion',\n",
       " 'Galileo and Motion',\n",
       " '3 Phase Rectifying Circuit (HD)',\n",
       " 'two source wave interference',\n",
       " 'Creating a Transverse Wave',\n",
       " 'Creating a Longitudinal Wave',\n",
       " 'Gravity Road',\n",
       " 'Transverse and Longitudinal Harmonic Waves',\n",
       " 'Ramp Race',\n",
       " 'Kinetic Energy on a Ramp',\n",
       " 'Kinematics in 1D, A car chase',\n",
       " 'Kinematics in 1D',\n",
       " 'Standing Electromagnetic Wave',\n",
       " 'Spherical Aberration',\n",
       " 'Chromatic Aberration',\n",
       " 'Otto Cycle',\n",
       " 'Shear and Pressure Waves']"
      ]
     },
     "execution_count": 17,
     "metadata": {},
     "output_type": "execute_result"
    }
   ],
   "source": [
    "stem_videos['title'].to_list()[:100]"
   ]
  },
  {
   "cell_type": "code",
   "execution_count": 18,
   "id": "940a0f92-9f94-4dc8-9ff3-ff817f022732",
   "metadata": {},
   "outputs": [],
   "source": [
    "stem_videos.write_csv('stem_videos_05thr.csv')"
   ]
  },
  {
   "cell_type": "code",
   "execution_count": null,
   "id": "105b985c-5bf3-4e17-b710-8c0bb67c3ab5",
   "metadata": {},
   "outputs": [],
   "source": []
  }
 ],
 "metadata": {
  "kernelspec": {
   "display_name": "Python 3 (ipykernel)",
   "language": "python",
   "name": "python3"
  },
  "language_info": {
   "codemirror_mode": {
    "name": "ipython",
    "version": 3
   },
   "file_extension": ".py",
   "mimetype": "text/x-python",
   "name": "python",
   "nbconvert_exporter": "python",
   "pygments_lexer": "ipython3",
   "version": "3.12.4"
  }
 },
 "nbformat": 4,
 "nbformat_minor": 5
}
